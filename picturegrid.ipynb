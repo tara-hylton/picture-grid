{
 "cells": [
  {
   "cell_type": "markdown",
   "id": "5535df9a",
   "metadata": {},
   "source": [
    "Picture Grid practic project"
   ]
  },
  {
   "cell_type": "code",
   "execution_count": 1,
   "id": "2451706a",
   "metadata": {},
   "outputs": [
    {
     "name": "stdout",
     "output_type": "stream",
     "text": [
      "..OO.OO..\n",
      ".OOOOOOO.\n",
      ".OOOOOOO.\n",
      "..OOOOO..\n",
      "...OOO...\n",
      "....O....\n"
     ]
    }
   ],
   "source": [
    "grid = [['.', '.', '.', '.', '.', '.'],\n",
    "        ['.', 'O', 'O', '.', '.', '.'],\n",
    "        ['O', 'O', 'O', 'O', '.', '.'],\n",
    "        ['O', 'O', 'O', 'O', 'O', '.'],\n",
    "        ['.', 'O', 'O', 'O', 'O', 'O'],\n",
    "        ['O', 'O', 'O', 'O', 'O', '.'],\n",
    "        ['O', 'O', 'O', 'O', '.', '.'],\n",
    "        ['.', 'O', 'O', '.', '.', '.'],\n",
    "        ['.', '.', '.', '.', '.', '.']]\n",
    "\n",
    "x = 0\n",
    "y = 0\n",
    "\n",
    "while y <= 6:\n",
    "    \n",
    "    if y == 6:\n",
    "        break    \n",
    "    \n",
    "        \n",
    "    if x == 9:\n",
    "        x = 0\n",
    "        y +=1 \n",
    "        print(\"\")\n",
    "    elif x <= 8:\n",
    "        print(grid[x][y], end=\"\")\n",
    "        x += 1"
   ]
  }
 ],
 "metadata": {
  "kernelspec": {
   "display_name": "Python 3",
   "language": "python",
   "name": "python3"
  },
  "language_info": {
   "codemirror_mode": {
    "name": "ipython",
    "version": 3
   },
   "file_extension": ".py",
   "mimetype": "text/x-python",
   "name": "python",
   "nbconvert_exporter": "python",
   "pygments_lexer": "ipython3",
   "version": "3.13.2"
  }
 },
 "nbformat": 4,
 "nbformat_minor": 5
}
